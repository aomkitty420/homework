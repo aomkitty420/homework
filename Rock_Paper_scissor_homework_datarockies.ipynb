{
  "nbformat": 4,
  "nbformat_minor": 0,
  "metadata": {
    "colab": {
      "provenance": []
    },
    "kernelspec": {
      "name": "python3",
      "display_name": "Python 3"
    },
    "language_info": {
      "name": "python"
    }
  },
  "cells": [
    {
      "cell_type": "code",
      "execution_count": null,
      "metadata": {
        "id": "3lNrAFSXyX0a"
      },
      "outputs": [],
      "source": [
        "import pandas as pd\n",
        "import numpy as np\n",
        "import random as rd"
      ]
    },
    {
      "cell_type": "code",
      "source": [
        "import random as rd\n",
        "\n",
        "com_option = [\"rock\", \"paper\", \"scissor\"]\n",
        "result = {\"win\": 0, \"tie\": 0, \"lose\": 0}\n",
        "\n",
        "def game_rps():\n",
        "    print(\"Welcome to Rock-Paper-Scissors game.\")\n",
        "    print(\"Let's choose your option: 'rock', 'paper', 'scissor'.\")\n",
        "    print(\"If you want to quit, type 'quit': \")\n",
        "\n",
        "    while True:\n",
        "        com = rd.choice(com_option)\n",
        "        greeting = input()\n",
        "\n",
        "        if greeting == com:\n",
        "            print(\"It's a tie!,\\nif you want to continue playing let' fill your option: \")\n",
        "            print(\"...............................\")\n",
        "            result[\"tie\"] += 1\n",
        "        elif (greeting == \"rock\" and com == \"scissor\") or (greeting == \"paper\" and com == \"rock\") or (greeting == \"scissor\" and com == \"paper\"):\n",
        "            print(\"You win!\\nPlay again or type 'quit' to exit.\")\n",
        "            print(\"...............................\")\n",
        "            result[\"win\"] += 1\n",
        "        elif greeting == \"quit\":\n",
        "            print(\"Goodbye!\")\n",
        "            break\n",
        "        elif greeting not in ['rock', 'paper', 'scissor']:\n",
        "            print(\"Wrong answer!\\nPlease type only 'rock', 'paper', 'scissor', or 'quit'.\")\n",
        "            print(\"...............................\")\n",
        "        else:\n",
        "            print(\"You lose!\")\n",
        "            print(\"...............................\")\n",
        "            result[\"lose\"] += 1\n",
        "\n",
        "    print(f\"Game Summary:\\n Wins > {result['win']},\\n Ties > {result['tie']},\\n Losses > {result['lose']}\")\n",
        "\n",
        "game_rps()"
      ],
      "metadata": {
        "colab": {
          "base_uri": "https://localhost:8080/"
        },
        "id": "3w_z0V9P_iNS",
        "outputId": "3260110e-6a62-4c35-85eb-3e0a2d079274"
      },
      "execution_count": null,
      "outputs": [
        {
          "output_type": "stream",
          "name": "stdout",
          "text": [
            "Welcome to Rock-Paper-Scissors game.\n",
            "Let's choose your option: 'rock', 'paper', 'scissor'.\n",
            "If you want to quit, type 'quit': \n",
            "aom\n",
            "Wrong answer!\n",
            "Please type only 'rock', 'paper', 'scissor', or 'quit'.\n",
            "...............................\n",
            "paper\n",
            "You lose!\n",
            "...............................\n",
            "rock\n",
            "It's a tie!,\n",
            "if you want to continue playing let' fill your option: \n",
            "...............................\n",
            "scissor\n",
            "It's a tie!,\n",
            "if you want to continue playing let' fill your option: \n",
            "...............................\n",
            "quit\n",
            "Goodbye!\n",
            "Game Summary:\n",
            " Wins > 0,\n",
            " Ties > 2,\n",
            " Losses > 1\n"
          ]
        }
      ]
    }
  ]
}