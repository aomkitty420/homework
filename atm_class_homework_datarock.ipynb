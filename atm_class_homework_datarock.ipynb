{
  "nbformat": 4,
  "nbformat_minor": 0,
  "metadata": {
    "colab": {
      "provenance": []
    },
    "kernelspec": {
      "name": "python3",
      "display_name": "Python 3"
    },
    "language_info": {
      "name": "python"
    }
  },
  "cells": [
    {
      "cell_type": "code",
      "source": [
        "class Customer:\n",
        "    def __init__(self, name, pin, balance):\n",
        "        self.name = name\n",
        "        self.pin = pin\n",
        "        self.balance = balance\n",
        "\n",
        "customer_1 = Customer(\"Mr.A\", \"1234\", 50000)\n",
        "\n",
        "def atm():\n",
        "    print(\"Please type your PIN:\")\n",
        "    while True:\n",
        "        pin_input = input()\n",
        "        if pin_input == customer_1.pin:\n",
        "            print(\"Correct\")\n",
        "            break\n",
        "        else:\n",
        "            print(\"Incorrect PIN. Please try again.\")\n",
        "\n",
        "    print(\"Welcome to our ATM. We are a financial institute, not a Korean band.\")\n",
        "    print(f\"Nice to see you, {customer_1.name}.\")\n",
        "\n",
        "    print(\"Please select the option you want to perform today:\")\n",
        "    print(\"1. Withdraw - press 1\")\n",
        "    print(\"2. Deposit - press 2\")\n",
        "    print(\"3. Check money in account - press 3\")\n",
        "    print(\"4. Cancel - press 4\")\n",
        "    print(\"5. Donate for our bank - press 5\")\n",
        "\n",
        "    while True:\n",
        "        option = input(\"Enter your choice: \")\n",
        "\n",
        "        if option == '1':\n",
        "            print(\"Type the amount of money you want to withdraw, but don't empty your account; we don't want a bank run.\")\n",
        "            amount = int(input())\n",
        "            if amount <= customer_1.balance:\n",
        "                print(\"Have a nice day!\")\n",
        "                break\n",
        "            else:\n",
        "                print(\"You don't have enough balance.\")\n",
        "        elif option == '2':\n",
        "            print(\"Thank you for trusting us to take care of your money.\")\n",
        "            print(\"Even if we will use your money for someone else to loan and mock up the number for your account.\")\n",
        "            num_deposit = float(input(\"Enter the amount you want to deposit: \"))\n",
        "            customer_1.balance += num_deposit\n",
        "            print(f\"Thank you! (devil smile) your current balance {customer_1.balance}\")\n",
        "            break\n",
        "        elif option == '3':\n",
        "            print(f\"Your current balance is: ${customer_1.balance}\\nnow let choose your option or if you want to quit press 4\")\n",
        "        elif option == '4':\n",
        "            print(\"Goodbye!\")\n",
        "            break\n",
        "        elif option == '5':\n",
        "            print(\"Thank you for your kindness. How much would you like to donate?\")\n",
        "            donate = float(input())\n",
        "            if donate <= 900:\n",
        "                print(\"Thank you, Mr. Stingy!\")\n",
        "                break\n",
        "            else:\n",
        "                print(\"What a generous person! We appreciate your kindness, and we will treat you like the king of this land.\")\n",
        "                break\n",
        "        else:\n",
        "            print(\"Invalid choice. Please select a valid option.\")\n",
        "\n",
        "atm()"
      ],
      "metadata": {
        "colab": {
          "base_uri": "https://localhost:8080/"
        },
        "id": "ObHNCveAVlcd",
        "outputId": "c0075509-7c9a-44c1-f3e8-40ecc8cd1a2f"
      },
      "execution_count": null,
      "outputs": [
        {
          "output_type": "stream",
          "name": "stdout",
          "text": [
            "Please type your PIN:\n",
            "1234\n",
            "Correct\n",
            "Welcome to our ATM. We are a financial institute, not a Korean band.\n",
            "Nice to see you, Mr.A.\n",
            "Please select the option you want to perform today:\n",
            "1. Withdraw - press 1\n",
            "2. Deposit - press 2\n",
            "3. Check money in account - press 3\n",
            "4. Cancel - press 4\n",
            "5. Donate for our bank - press 5\n",
            "Enter your choice: 3\n",
            "Your current balance is: $50000\n",
            "now let choose your option or if you want to quit press 4\n",
            "Enter your choice: 4\n",
            "Goodbye!\n"
          ]
        }
      ]
    }
  ]
}